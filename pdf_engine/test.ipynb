{
 "cells": [
  {
   "cell_type": "code",
   "execution_count": 10,
   "metadata": {},
   "outputs": [
    {
     "ename": "RuntimeError",
     "evalue": "asyncio.run() cannot be called from a running event loop",
     "output_type": "error",
     "traceback": [
      "\u001b[0;31m---------------------------------------------------------------------------\u001b[0m",
      "\u001b[0;31mRuntimeError\u001b[0m                              Traceback (most recent call last)",
      "Cell \u001b[0;32mIn[10], line 20\u001b[0m\n\u001b[1;32m     17\u001b[0m         \u001b[38;5;28mprint\u001b[39m(\u001b[38;5;124mf\u001b[39m\u001b[38;5;124m\"\u001b[39m\u001b[38;5;124mSearch results for \u001b[39m\u001b[38;5;124m'\u001b[39m\u001b[38;5;132;01m{\u001b[39;00mquery\u001b[38;5;132;01m}\u001b[39;00m\u001b[38;5;124m'\u001b[39m\u001b[38;5;124m: \u001b[39m\u001b[38;5;132;01m{\u001b[39;00mresult\u001b[38;5;132;01m}\u001b[39;00m\u001b[38;5;124m\"\u001b[39m)\n\u001b[1;32m     19\u001b[0m \u001b[38;5;28;01mif\u001b[39;00m \u001b[38;5;18m__name__\u001b[39m \u001b[38;5;241m==\u001b[39m \u001b[38;5;124m\"\u001b[39m\u001b[38;5;124m__main__\u001b[39m\u001b[38;5;124m\"\u001b[39m:\n\u001b[0;32m---> 20\u001b[0m     \u001b[43masyncio\u001b[49m\u001b[38;5;241;43m.\u001b[39;49m\u001b[43mrun\u001b[49m\u001b[43m(\u001b[49m\u001b[43mperform_searches\u001b[49m\u001b[43m(\u001b[49m\u001b[43m)\u001b[49m\u001b[43m)\u001b[49m\n",
      "File \u001b[0;32m/usr/lib/python3.11/asyncio/runners.py:186\u001b[0m, in \u001b[0;36mrun\u001b[0;34m(main, debug)\u001b[0m\n\u001b[1;32m    161\u001b[0m \u001b[38;5;250m\u001b[39m\u001b[38;5;124;03m\"\"\"Execute the coroutine and return the result.\u001b[39;00m\n\u001b[1;32m    162\u001b[0m \n\u001b[1;32m    163\u001b[0m \u001b[38;5;124;03mThis function runs the passed coroutine, taking care of\u001b[39;00m\n\u001b[0;32m   (...)\u001b[0m\n\u001b[1;32m    182\u001b[0m \u001b[38;5;124;03m    asyncio.run(main())\u001b[39;00m\n\u001b[1;32m    183\u001b[0m \u001b[38;5;124;03m\"\"\"\u001b[39;00m\n\u001b[1;32m    184\u001b[0m \u001b[38;5;28;01mif\u001b[39;00m events\u001b[38;5;241m.\u001b[39m_get_running_loop() \u001b[38;5;129;01mis\u001b[39;00m \u001b[38;5;129;01mnot\u001b[39;00m \u001b[38;5;28;01mNone\u001b[39;00m:\n\u001b[1;32m    185\u001b[0m     \u001b[38;5;66;03m# fail fast with short traceback\u001b[39;00m\n\u001b[0;32m--> 186\u001b[0m     \u001b[38;5;28;01mraise\u001b[39;00m \u001b[38;5;167;01mRuntimeError\u001b[39;00m(\n\u001b[1;32m    187\u001b[0m         \u001b[38;5;124m\"\u001b[39m\u001b[38;5;124masyncio.run() cannot be called from a running event loop\u001b[39m\u001b[38;5;124m\"\u001b[39m)\n\u001b[1;32m    189\u001b[0m \u001b[38;5;28;01mwith\u001b[39;00m Runner(debug\u001b[38;5;241m=\u001b[39mdebug) \u001b[38;5;28;01mas\u001b[39;00m runner:\n\u001b[1;32m    190\u001b[0m     \u001b[38;5;28;01mreturn\u001b[39;00m runner\u001b[38;5;241m.\u001b[39mrun(main)\n",
      "\u001b[0;31mRuntimeError\u001b[0m: asyncio.run() cannot be called from a running event loop"
     ]
    }
   ],
   "source": [
    "import asyncio\n",
    "from mongo_db_handler import MongoDBHandler\n",
    "async def perform_searches():\n",
    "    db_url = 'your_mongodb_url'\n",
    "    db_name = 'your_db_name'\n",
    "    handler = MongoDBHandler(db_url, db_name)\n",
    "\n",
    "    # Example queries\n",
    "    queries = [\"search_term_1\", \"search_term_2\", \"search_term_3\"]\n",
    "\n",
    "    # Perform searches concurrently using asyncio.gather\n",
    "    tasks = [handler.search(query) for query in queries]\n",
    "    results = await asyncio.gather(*tasks)\n",
    "\n",
    "    # Print or process the results\n",
    "    for query, result in zip(queries, results):\n",
    "        print(f\"Search results for '{query}': {result}\")\n",
    "\n",
    "if __name__ == \"__main__\":\n",
    "    asyncio.run(perform_searches())"
   ]
  },
  {
   "cell_type": "markdown",
   "metadata": {},
   "source": [
    "## Average Time by simple search from  mongo_db"
   ]
  },
  {
   "cell_type": "code",
   "execution_count": 18,
   "metadata": {},
   "outputs": [
    {
     "name": "stdout",
     "output_type": "stream",
     "text": [
      "Number of entries in the collection: 51471\n",
      "0:47\n",
      "1:47\n",
      "2:47\n",
      "3:47\n",
      "4:47\n",
      "5:47\n",
      "6:47\n",
      "7:47\n",
      "8:47\n",
      "9:47\n",
      "10:47\n",
      "11:47\n",
      "12:47\n",
      "13:47\n",
      "14:47\n",
      "15:47\n",
      "16:47\n",
      "17:47\n",
      "18:47\n",
      "19:47\n",
      "20:47\n",
      "21:47\n",
      "22:47\n",
      "23:47\n",
      "24:47\n",
      "25:47\n",
      "26:47\n",
      "27:47\n",
      "28:47\n",
      "29:47\n",
      "30:47\n",
      "31:47\n",
      "32:47\n",
      "33:47\n",
      "34:47\n",
      "35:47\n",
      "36:47\n",
      "37:47\n",
      "38:47\n",
      "39:47\n",
      "40:47\n",
      "41:47\n",
      "42:47\n",
      "43:47\n",
      "44:47\n",
      "45:47\n",
      "46:47\n",
      "47:47\n",
      "48:47\n",
      "49:47\n"
     ]
    },
    {
     "data": {
      "text/plain": [
       "5.98073132832845"
      ]
     },
     "execution_count": 18,
     "metadata": {},
     "output_type": "execute_result"
    }
   ],
   "source": [
    "import time\n",
    "from mongo_db_handler import MongoDBHandler\n",
    "mongo_handler = MongoDBHandler(collection_name = \"pdf_collection\", db_name=\"pdf_engine\")\n",
    "mongo_handler.count_entries()\n",
    "average_time = 0\n",
    "for i in range(50):\n",
    "    print(i, end=':')\n",
    "    start_time = time.time()\n",
    "    res = mongo_handler.search(\"physics\")\n",
    "    print(len(list(res)))\n",
    "    stop_time = time.time()\n",
    "    duration = stop_time - start_time\n",
    "    average_time += duration\n",
    "average_time /= 15\n",
    "average_time    "
   ]
  },
  {
   "cell_type": "markdown",
   "metadata": {},
   "source": [
    "## Average Time by search_by_id from mongodb"
   ]
  },
  {
   "cell_type": "code",
   "execution_count": 19,
   "metadata": {},
   "outputs": [
    {
     "name": "stdout",
     "output_type": "stream",
     "text": [
      "Number of entries in the collection: 51471\n",
      "0:47\n",
      "1:47\n",
      "2:47\n",
      "3:47\n",
      "4:47\n",
      "5:47\n",
      "6:47\n",
      "7:47\n",
      "8:47\n",
      "9:47\n",
      "10:47\n",
      "11:47\n",
      "12:47\n",
      "13:47\n",
      "14:47\n",
      "15:47\n",
      "16:47\n",
      "17:47\n",
      "18:47\n",
      "19:47\n",
      "20:47\n",
      "21:47\n",
      "22:47\n",
      "23:47\n",
      "24:47\n",
      "25:47\n",
      "26:47\n",
      "27:47\n",
      "28:47\n",
      "29:47\n",
      "30:47\n",
      "31:47\n",
      "32:47\n",
      "33:"
     ]
    }
   ],
   "source": [
    "import json\n",
    "import time\n",
    "\n",
    "with open('/home/anon/ioee/pdf_engine_search_result_physics.json', 'r') as f:\n",
    "    data = json.load(f)\n",
    "\n",
    "ids = [d['id'] for d in data]\n",
    "\n",
    "\n",
    "from mongo_db_handler import MongoDBHandler\n",
    "mongo_handler = MongoDBHandler(collection_name = \"pdf_collection\", db_name=\"pdf_engine\")\n",
    "mongo_handler.count_entries()\n",
    "average_time = 0\n",
    "for i in range(50):\n",
    "    print(i, end=':')\n",
    "    start_time = time.time()\n",
    "    res = mongo_handler.get_by_ids(ids)\n",
    "    print(len(list(res)))\n",
    "    stop_time = time.time()\n",
    "    duration = stop_time - start_time\n",
    "    average_time += duration\n",
    "average_time /= 15\n",
    "average_time"
   ]
  },
  {
   "cell_type": "markdown",
   "metadata": {},
   "source": [
    "## Average Time by entire-search-result-in-redis from Redis insertation"
   ]
  },
  {
   "cell_type": "code",
   "execution_count": null,
   "metadata": {},
   "outputs": [],
   "source": [
    "import redis\n",
    "\n",
    "r = redis.Redis(\n",
    "host='redis-19089.c212.ap-south-1-1.ec2.cloud.redislabs.com',\n",
    "port=19089,\n",
    "password='uUzG92fuoNbpDa2922BTIFnpXyPSgIrO')\n"
   ]
  },
  {
   "cell_type": "code",
   "execution_count": null,
   "metadata": {},
   "outputs": [
    {
     "name": "stdout",
     "output_type": "stream",
     "text": [
      "0:47\n",
      "1:47\n",
      "2:47\n",
      "3:47\n",
      "4:47\n",
      "5:47\n",
      "6:47\n",
      "7:47\n",
      "8:47\n",
      "9:47\n",
      "10:47\n",
      "11:47\n",
      "12:47\n",
      "13:47\n",
      "14:47\n",
      "15:47\n",
      "16:47\n",
      "17:47\n",
      "18:47\n",
      "19:47\n",
      "20:47\n",
      "21:47\n",
      "22:47\n",
      "23:47\n",
      "24:47\n",
      "25:47\n",
      "26:47\n",
      "27:47\n",
      "28:47\n",
      "29:47\n",
      "30:47\n",
      "31:47\n",
      "32:47\n",
      "33:47\n",
      "34:47\n",
      "35:47\n",
      "36:47\n",
      "37:47\n",
      "38:47\n",
      "39:47\n",
      "40:47\n",
      "41:47\n",
      "42:47\n",
      "43:47\n",
      "44:47\n",
      "45:47\n",
      "46:47\n",
      "47:47\n",
      "48:47\n",
      "49:47\n"
     ]
    },
    {
     "data": {
      "text/plain": [
       "3.6866156101226806"
      ]
     },
     "execution_count": 16,
     "metadata": {},
     "output_type": "execute_result"
    }
   ],
   "source": [
    "import redis\n",
    "import json\n",
    "\n",
    "with open('/home/anon/ioee/pdf_engine_search_result_physics.json', 'r') as f:\n",
    "    data = json.load(f)\n",
    "\n",
    "r.set('physics', json.dumps(data))\n",
    "# True\n",
    "\n",
    "\n",
    "\n",
    "\n",
    "import json\n",
    "import time\n",
    "\n",
    "ids = [d['id'] for d in data]\n",
    "\n",
    "average_time = 0\n",
    "for i in range(50):\n",
    "    print(i, end=':')\n",
    "    start_time = time.time()\n",
    "    res = json.loads(r.get('physics'))\n",
    "    print(len(list(res)))\n",
    "    stop_time = time.time()\n",
    "    duration = stop_time - start_time\n",
    "    average_time += duration\n",
    "average_time /= 15\n",
    "average_time\n",
    "\n",
    "\n",
    "\n",
    "# b'bar'"
   ]
  },
  {
   "cell_type": "markdown",
   "metadata": {},
   "source": [
    "## Average Time by ids-from-redis, data-froom-mongo"
   ]
  },
  {
   "cell_type": "code",
   "execution_count": 17,
   "metadata": {},
   "outputs": [
    {
     "name": "stdout",
     "output_type": "stream",
     "text": [
      "Number of entries in the collection: 51471\n",
      "0:47\n",
      "1:47\n",
      "2:47\n",
      "3:47\n",
      "4:47\n",
      "5:47\n",
      "6:47\n",
      "7:47\n",
      "8:47\n",
      "9:47\n",
      "10:47\n",
      "11:47\n",
      "12:47\n",
      "13:47\n",
      "14:47\n",
      "15:47\n",
      "16:47\n",
      "17:47\n",
      "18:47\n",
      "19:47\n",
      "20:47\n",
      "21:47\n",
      "22:47\n",
      "23:47\n",
      "24:47\n",
      "25:47\n",
      "26:47\n",
      "27:47\n",
      "28:47\n",
      "29:47\n",
      "30:47\n",
      "31:47\n",
      "32:47\n",
      "33:47\n",
      "34:47\n",
      "35:47\n",
      "36:47\n",
      "37:47\n",
      "38:47\n",
      "39:47\n",
      "40:47\n",
      "41:47\n",
      "42:47\n",
      "43:47\n",
      "44:47\n",
      "45:47\n",
      "46:47\n",
      "47:47\n",
      "48:47\n",
      "49:47\n"
     ]
    },
    {
     "data": {
      "text/plain": [
       "2.4366972128550213"
      ]
     },
     "execution_count": 17,
     "metadata": {},
     "output_type": "execute_result"
    }
   ],
   "source": [
    "import redis\n",
    "import json\n",
    "\n",
    "with open('/home/anon/ioee/pdf_engine_search_result_physics.json', 'r') as f:\n",
    "    data = json.load(f)\n",
    "\n",
    "r.set('physics_ids', json.dumps([d['id'] for d in data]))\n",
    "\n",
    "from mongo_db_handler import MongoDBHandler\n",
    "mongo_handler = MongoDBHandler(collection_name = \"pdf_collection\", db_name=\"pdf_engine\")\n",
    "mongo_handler.count_entries()\n",
    "average_time = 0\n",
    "for i in range(50):\n",
    "    print(i, end=':')\n",
    "    start_time = time.time()\n",
    "    ids = json.loads(r.get('physics_ids'))\n",
    "    res = mongo_handler.get_by_ids(ids)\n",
    "    print(len(list(res)))\n",
    "    stop_time = time.time()\n",
    "    duration = stop_time - start_time\n",
    "    average_time += duration\n",
    "average_time /= 15\n",
    "average_time"
   ]
  },
  {
   "cell_type": "code",
   "execution_count": 9,
   "metadata": {},
   "outputs": [
    {
     "data": {
      "text/plain": [
       "[b'foo']"
      ]
     },
     "execution_count": 9,
     "metadata": {},
     "output_type": "execute_result"
    }
   ],
   "source": [
    "r.keys()\n"
   ]
  }
 ],
 "metadata": {
  "kernelspec": {
   "display_name": "ioe_env",
   "language": "python",
   "name": "python3"
  },
  "language_info": {
   "codemirror_mode": {
    "name": "ipython",
    "version": 3
   },
   "file_extension": ".py",
   "mimetype": "text/x-python",
   "name": "python",
   "nbconvert_exporter": "python",
   "pygments_lexer": "ipython3",
   "version": "3.11.6"
  }
 },
 "nbformat": 4,
 "nbformat_minor": 2
}
